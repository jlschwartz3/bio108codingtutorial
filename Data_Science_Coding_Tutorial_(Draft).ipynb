{
  "nbformat": 4,
  "nbformat_minor": 0,
  "metadata": {
    "colab": {
      "provenance": [],
      "toc_visible": true,
      "mount_file_id": "1MDpWiQt4QCbxPDvY0rSgd_FgkPMG6bg-",
      "authorship_tag": "ABX9TyNQuHs5FEF4a0zuddgxVn+6",
      "include_colab_link": true
    },
    "kernelspec": {
      "name": "python3",
      "display_name": "Python 3"
    },
    "language_info": {
      "name": "python"
    }
  },
  "cells": [
    {
      "cell_type": "markdown",
      "metadata": {
        "id": "view-in-github",
        "colab_type": "text"
      },
      "source": [
        "<a href=\"https://colab.research.google.com/github/jlschwartz3/bio108codingtutorial/blob/main/Data_Science_Coding_Tutorial_(Draft).ipynb\" target=\"_parent\"><img src=\"https://colab.research.google.com/assets/colab-badge.svg\" alt=\"Open In Colab\"/></a>"
      ]
    },
    {
      "cell_type": "markdown",
      "source": [
        "#Rain, rain, go away? Or rain, rain, come? Precipitation and global agriculture\n",
        "\n",
        "Across the world, scientists are working to predict the effects of climate change on spatial and temporal levels. Global climate models, or GCMs, attempt to mathematically represent the complex processes of the Earth's climate system, including land surface, oceans, and the atmosphere. In the face of accelerating climate change, these models can be used to predict future climate data.\n",
        "\n",
        "Globally, cycles of rainfall dictate when to sow and harvest crops. Expected precipitation values for given months are essential to planning tilling, purchasing seeds, and determining if certain crops can continue to thrive in certain regions.\n",
        "\n",
        "Using projected climate data, we will examine how precipitation seasonality varies across regions and how that could impact agricultural patterns in the next 2 decades.\n",
        "\n",
        "The data come from WorldClim's future climate data projections for 2021-2040. It comes from the EC-Earth3-Veg GCM, a model that focuses on changes in vegetation types and distribution in response to climate change, and uses the Shared Socio-economic Pathway (SSP) 126, which refers to a low-emissions projection of future radiative forcing. The data is at the 10 minute spatial resolution, the most coarse of WorldClim's data."
      ],
      "metadata": {
        "id": "DAzd9zfSxFMe"
      }
    },
    {
      "cell_type": "code",
      "source": [
        "! pip install rasterio fiona #install rasterio library, which is not pre-loaded into Colab"
      ],
      "metadata": {
        "id": "APtjMkWUGEbG"
      },
      "execution_count": null,
      "outputs": []
    },
    {
      "cell_type": "markdown",
      "source": [
        "```\n",
        "import rasterio #install all necessary packages for working with raster data\n",
        "import rasterio.plot\n",
        "import matplotlib.pyplot as plt\n",
        "```"
      ],
      "metadata": {
        "id": "ISOm-HgUk_Hp"
      }
    },
    {
      "cell_type": "code",
      "source": [
        "import rasterio #install all necessary packages for working with raster data\n",
        "import rasterio.plot\n",
        "import matplotlib.pyplot as plt"
      ],
      "metadata": {
        "id": "8Rq6VV09lEVh"
      },
      "execution_count": null,
      "outputs": []
    },
    {
      "cell_type": "markdown",
      "source": [
        "For today's tutorial, we will start with working with raster data, where pixels are organized into larger grids to display geographic information."
      ],
      "metadata": {
        "id": "pPGD8-xqoaYI"
      }
    },
    {
      "cell_type": "markdown",
      "source": [
        "```\n",
        "raster_path = (\n",
        "    \"https://github.com/jlschwartz3/bio108tutorial/blob/main/wc2.1_10m_prec_EC-Earth3-Veg_ssp126_2021-2040.tif\"\n",
        ") #read in the raster data from .tif file, which was uploaded into Drive for ease of download\n",
        "src = rasterio.open(raster_path)\n",
        "print(src)\n",
        "```"
      ],
      "metadata": {
        "id": "-g7LhbYSlbeo"
      }
    },
    {
      "cell_type": "code",
      "source": [],
      "metadata": {
        "id": "8mXxCCrylfuK"
      },
      "execution_count": null,
      "outputs": []
    },
    {
      "cell_type": "markdown",
      "source": [
        "```\n",
        "src.meta #examine metadata. Important: shows coordinate reference system and number of bands present, 12.\n",
        "```"
      ],
      "metadata": {
        "id": "sg_G1xgPljHC"
      }
    },
    {
      "cell_type": "code",
      "source": [],
      "metadata": {
        "id": "334-yAnzlnUi"
      },
      "execution_count": null,
      "outputs": []
    },
    {
      "cell_type": "markdown",
      "source": [
        "```\n",
        "rasterio.plot.show(src) #plot the data\n",
        "\n",
        "fig, ax = plt.subplots(figsize=(8, 8)) #plot again, but introduce a new colormap to better visualize data\n",
        "rasterio.plot.show(src, cmap=\"viridis_r\", ax=ax)\n",
        "plt.show()\n",
        "```"
      ],
      "metadata": {
        "id": "RqqY5g5jlpQ4"
      }
    },
    {
      "cell_type": "code",
      "source": [],
      "metadata": {
        "id": "RgPKZiuxls3D"
      },
      "execution_count": null,
      "outputs": []
    },
    {
      "cell_type": "markdown",
      "source": [
        "Plot the data separated out by band (month)\n",
        "```\n",
        "band_names = [\"Jan\", \"Feb\", \"Mar\", \"Apr\", \"May\", \"Jun\", \"Jul\", \"Aug\", \"Sep\", \"Oct\", \"Nov\", \"Dec\"] #name all of the 12 bands present in the\n",
        "#dataset, which correspond to the 12 months of the year\n",
        "\n",
        "fig, axes = plt.subplots(nrows=6, ncols=2, figsize=(10, 18)) #create 6 rows and 2 columns for clear visual output\n",
        "axes = axes.flatten()  #flatten the 2D array of axes to 1D for easy iteration\n",
        "\n",
        "for band in range(1, src.count + 1): #include the +1 so that the final band is still included; all bands will be plotted in separate plots\n",
        "    data = src.read(band)\n",
        "    ax = axes[band - 1]\n",
        "    im = ax.imshow(data, cmap=\"viridis_r\", vmin=0, vmax=1000) #use viridis_r colormap to show contrast between yellow (low precip) and blue/green (higher precip)\n",
        "    ax.set_title(f\"Band {band_names[band - 1]}\")\n",
        "    fig.colorbar(im, ax=ax, label=\"Precipitation (mm)\", shrink=0.25) #add in colorbar scale to help interpret precipitation values\n",
        "\n",
        "plt.tight_layout()\n",
        "plt.show()\n",
        "```"
      ],
      "metadata": {
        "id": "iQAf932Ol0rY"
      }
    },
    {
      "cell_type": "code",
      "source": [],
      "metadata": {
        "id": "XO7eDgt_l2j4"
      },
      "execution_count": null,
      "outputs": []
    },
    {
      "cell_type": "markdown",
      "source": [
        "### Geographic clipping"
      ],
      "metadata": {
        "id": "aiSR_9w5m4WT"
      }
    },
    {
      "cell_type": "markdown",
      "source": [
        "For the next analysis, let's zoom in on a specific country to take a closer look at its unique precipitation patterns: Brazil.\n",
        "\n",
        "As of 2022, Brazil was the world's second-largest exporter of agricultural products and provides food security to much of Latin America. Its soybeans, corn, beef, and coffee are are also staples for China, which sources nearly a quarter of its imports from Brazil. Crops coming from Brazil feed approximately 10% of the the world.\n",
        "\n",
        "From a climate perspective, Brazil plays a crucial role in the regulation of global patterns through the influence of the Amazon rainforest, much of which lies within Brazil's boundaries. Evapotranspiration from the rainforest results in increased water vapor in the atmosphere, which condenses and falls as precipitation near and far, depending on wind patterns. The Amazon rainforest is responsible for around 50% of all rainfall in the region, supplying moisture to farmers across the basin.\n",
        "\n",
        "How much does Brazil's rainfall fluctuate throughout the year? To optimize agriculture, it's important for farmers to have a strong understanding of precipitation patterns for each month."
      ],
      "metadata": {
        "id": "FJ-1Jmxrj097"
      }
    },
    {
      "cell_type": "code",
      "source": [
        "!npm install --save brazilian-boundaries #brazilian-boundaries file sourced from GitHub"
      ],
      "metadata": {
        "colab": {
          "base_uri": "https://localhost:8080/"
        },
        "id": "KqH4jhq40-fG",
        "outputId": "4bd1f33a-f8b4-45c3-d92f-dee5c9ee610d"
      },
      "execution_count": null,
      "outputs": [
        {
          "output_type": "stream",
          "name": "stdout",
          "text": [
            "\u001b[1G\u001b[0K⠙\u001b[1G\u001b[0K⠹\u001b[1G\u001b[0K⠸\u001b[1G\u001b[0K⠼\u001b[1G\u001b[0K⠴\u001b[1G\u001b[0K⠦\u001b[1G\u001b[0K⠧\u001b[1G\u001b[0K⠇\u001b[1G\u001b[0K⠏\u001b[1G\u001b[0K⠋\u001b[1G\u001b[0K⠙\u001b[1G\u001b[0K⠹\u001b[1G\u001b[0K⠸\u001b[1G\u001b[0K⠼\u001b[1G\u001b[0K⠴\u001b[1G\u001b[0K⠦\u001b[1G\u001b[0K⠧\u001b[1G\u001b[0K⠇\u001b[1G\u001b[0K⠏\u001b[1G\u001b[0K⠋\u001b[1G\u001b[0K⠙\u001b[1G\u001b[0K⠹\u001b[1G\u001b[0K⠸\u001b[1G\u001b[0K⠼\u001b[1G\u001b[0K⠴\u001b[1G\u001b[0K⠦\u001b[1G\u001b[0K⠧\u001b[1G\u001b[0K⠇\u001b[1G\u001b[0K⠏\u001b[1G\u001b[0K⠋\u001b[1G\u001b[0K⠙\u001b[1G\u001b[0K\u001b[1mnpm\u001b[22m \u001b[33mwarn\u001b[39m \u001b[94mdeprecated\u001b[39m core-js@2.6.12: core-js@<3.23.3 is no longer maintained and not recommended for usage due to the number of issues. Because of the V8 engine whims, feature detection in old core-js versions could cause a slowdown up to 100x even if nothing is polyfilled. Some versions have web compatibility issues. Please, upgrade your dependencies to the actual version of core-js.\n",
            "\u001b[1G\u001b[0K⠙\u001b[1G\u001b[0K⠹\u001b[1G\u001b[0K⠸\u001b[1G\u001b[0K⠼\u001b[1G\u001b[0K⠴\u001b[1G\u001b[0K\n",
            "added 5 packages in 4s\n",
            "\u001b[1G\u001b[0K⠴\u001b[1G\u001b[0K"
          ]
        }
      ]
    },
    {
      "cell_type": "markdown",
      "source": [
        "Here, we're going to read in a GeoJSON file, which is a type of vector file, or spatial data shown through lines, points, and polygons. In this case, it's a polygon representing the boundaries of Brazil."
      ],
      "metadata": {
        "id": "JwB6qV23qRLF"
      }
    },
    {
      "cell_type": "markdown",
      "source": [
        "```\n",
        "import fiona\n",
        "import rasterio.mask\n",
        "import geopandas as gpd\n",
        "\n",
        "geojson_path = \"https://github.com/jlschwartz3/bio108tutorial/blob/main/brazil_Brazil_Country_Boundary.geojson\"\n",
        "bounds = gpd.read_file(geojson_path) #import geoJSON vector file showing Brazil's national boundaries\n",
        "\n",
        "fig, ax = plt.subplots()\n",
        "rasterio.plot.show(src, ax=ax)\n",
        "bounds.plot(ax=ax, edgecolor=\"red\", facecolor=\"none\") #plot the original plot, with the Brazil boundary vector overlaid\n",
        "```\n",
        "\n"
      ],
      "metadata": {
        "id": "fw9pOxlImn9H"
      }
    },
    {
      "cell_type": "code",
      "source": [],
      "metadata": {
        "id": "RYVVeJq4ykeL"
      },
      "execution_count": null,
      "outputs": []
    },
    {
      "cell_type": "markdown",
      "source": [
        "```\n",
        "import matplotlib.pyplot as plt\n",
        "import numpy as np\n",
        "\n",
        "with fiona.open(geojson_path, \"r\") as f:\n",
        "    shapes = [feature[\"geometry\"] for feature in f]\n",
        "\n",
        "out_image, out_transform = rasterio.mask.mask(src, shapes, crop=True) #clips raster file to just show the desired feature (Brazil)\n",
        "\n",
        "global_vmin = np.nanmin(out_image)  #minimum value across all bands\n",
        "global_vmax = np.nanmax(out_image)  #maximum value across all bands\n",
        "\n",
        "num_bands = out_image.shape[0]\n",
        "\n",
        "fig, axes = plt.subplots(nrows=6, ncols=2, figsize=(10, 18))\n",
        "axes = axes.flatten()\n",
        "\n",
        "for i in range(num_bands):\n",
        "    band_data = out_image[i]\n",
        "\n",
        "    ax = axes[i]\n",
        "    im = ax.imshow(band_data, cmap=\"viridis_r\", vmin=global_vmin, vmax=global_vmax)\n",
        "    ax.set_title(f\"Band {i + 1}\") #bands correspond to months of the year\n",
        "    cbar = plt.colorbar(im, ax=ax, shrink=0.6)\n",
        "    cbar.set_label(\"Precipitation (mm)\", fontsize=10)\n",
        "\n",
        "\n",
        "plt.tight_layout()\n",
        "plt.show()\n",
        "```"
      ],
      "metadata": {
        "id": "x7UM8IEtm0TA"
      }
    },
    {
      "cell_type": "code",
      "source": [],
      "metadata": {
        "id": "ZkZzz8fGnEyR"
      },
      "execution_count": null,
      "outputs": []
    },
    {
      "cell_type": "markdown",
      "source": [
        "The clipped raster files show that precipitation is generally heaviest in the December-April months, but that it varies by region. Certain parts in the northwestern area, which is densely forested, are rainiest May-July, whereas some heavily agricultural zones in the south-central region have a shorter \"wet season,\" with heaviest precipitation concentrated in just December and January."
      ],
      "metadata": {
        "id": "Ak1pYYV1BHr2"
      }
    },
    {
      "cell_type": "markdown",
      "source": [
        "# Climatic variation and crop yield\n",
        "\n"
      ],
      "metadata": {
        "id": "PbYPq2_lb-xr"
      }
    },
    {
      "cell_type": "markdown",
      "source": [
        "So how does this connect to conservation of agriculture?\n",
        "\n",
        "In a paper published in Nature Communications in 2015, [Ray et al.](https://doi.org/10.1038/ncomms6989) examined the influence of climatic variation on fluctuation of yields for major global crops.\n",
        "\n",
        "They found that climate variability accounts for approximately one-third (32–39%) of the observed annual yield variability for maize, rice, wheat, and soybean globally. This is huge!\n",
        "\n",
        "Furthermore, the impact of climate factors varies by region. In some places, temperature is more influential, whereas precipitation is more important in others.\n",
        "\n",
        "For our analysis, we'll focus on precipitation.\n",
        "\n",
        "\n",
        "\n",
        "Citation:\n",
        "Ray, D., Gerber, J., MacDonald, G. et al. Climate variation explains a third of global crop yield variability. Nat Commun 6, 5989 (2015). https://doi.org/10.1038/ncomms6989\n",
        "\n",
        "\n"
      ],
      "metadata": {
        "id": "QliMyx1KPZjd"
      }
    },
    {
      "cell_type": "markdown",
      "source": [
        "### **Our objectives**\n",
        "\n",
        "\n",
        "1. Visualize the global patterns of crop yield variability based on the time series data using Leafmap.\n",
        "2. Analyze whether total crop yield variability explained due to climate variability is higher in wetter or drier regions.\n",
        "3. Ultimately, narrow this analysis to Brazil, a key producer of maize, to compare with earlier precipitation analysis."
      ],
      "metadata": {
        "id": "TnhE3KIRRZvU"
      }
    },
    {
      "cell_type": "markdown",
      "source": [
        "To execute this analysis, we will use the same dataset that Ray et al. 2015 used to produce their data. It's available in EarthStat's collection of geographic datasets on land use and agriculture.\n",
        "\n",
        "We will use the Leafmap package to create an interactive visualization."
      ],
      "metadata": {
        "id": "CpOZ0DvJTETD"
      }
    },
    {
      "cell_type": "code",
      "source": [
        "! pip install -U leafmap #install leafmap, fiona, and rasterio packages\n",
        "! pip install fiona\n",
        "! pip install folium matplotlib mapclassify\n",
        "! pip install localtileserver\n",
        "! pip install rasterio"
      ],
      "metadata": {
        "id": "lA3lP-TT_rEG",
        "collapsed": true
      },
      "execution_count": null,
      "outputs": []
    },
    {
      "cell_type": "markdown",
      "source": [
        "Leafmaps show changes in data using color scales. Because Ray et al.'s data is categorical, the colors can't be represented as a continuous scale, like in the previous visualizations. Instead, they identified 8 different categories, and all of the data will fall into one of those 8 \"buckets\" and be represented by a very defined color.\n",
        "\n",
        "Their categories were: No Data/Ocean, No Effect, 0–15%, >15–30%, >30–45%, >45–60%, >60–75%, >75%, with the percentages representing the percent of crop yield variability that was explained by variation in climate."
      ],
      "metadata": {
        "id": "Ue5g5fI0O4Rz"
      }
    },
    {
      "cell_type": "markdown",
      "source": [
        "```\n",
        "import leafmap #import packages\n",
        "import rasterio\n",
        "import numpy as np\n",
        "import matplotlib.pyplot as plt\n",
        "import matplotlib.colors as mcolors\n",
        "\n",
        "#define category values and labels (including 0 as no data/ocean)\n",
        "categories = [0, 1, 2, 3, 4, 5, 6, 7]\n",
        "labels = [\n",
        "    \"No Data / Ocean\", \"No Effect\", \"0–15%\", \">15–30%\", \">30–45%\", \">45–60%\", \">60–75%\", \">75%\"\n",
        "]\n",
        "\n",
        "#define colors and set gray as color for no data/ocean areas\n",
        "spectral_cmap = plt.get_cmap('Spectral')\n",
        "color_values = [mcolors.to_rgba('lightgray')] + [spectral_cmap(i / 6) for i in range(7)]\n",
        "cmap = mcolors.ListedColormap(color_values)\n",
        "vmin = 0\n",
        "vmax = 7\n",
        "\n",
        "#path to the .tif file on total crop yield variability explained due to climate variability for maize\n",
        "tif = '/content/drive/MyDrive/crop yields/explanatorycat_maize.tif'\n",
        "\n",
        "#create the map\n",
        "m = leafmap.Map(center=(33, 12), zoom=3, height=\"590px\")\n",
        "\n",
        "#add in the colorbar\n",
        "m.add_raster(\n",
        "    tif,\n",
        "    layer_name=\"Maize Raster\", #add the raster for format with only 1 band and no band descriptions\n",
        "    cmap=cmap,\n",
        "    vmin=vmin,\n",
        "    vmax=vmax,\n",
        "    nodata=0,  # optional if 0 is no data\n",
        "    opacity=1,\n",
        ")\n",
        "\n",
        "#add in text to legend\n",
        "legend_dict = dict(zip(labels, [mcolors.to_hex(c) for c in color_values]))\n",
        "m.add_legend(title=\"Maize Variability Explained by Climate\", legend_dict=legend_dict)\n",
        "\n",
        "m\n",
        "```"
      ],
      "metadata": {
        "id": "OqDcJ1pZnNkS"
      }
    },
    {
      "cell_type": "code",
      "source": [],
      "metadata": {
        "id": "86xSBfWtnQiY"
      },
      "execution_count": null,
      "outputs": []
    },
    {
      "cell_type": "markdown",
      "source": [
        "The resulting Leafmap shows that in darker blue and green regions, climate variability is more weakly correlated with variability in crop yields. Based on a variety of variable feeding into their model, temperature and precipitation changes were less likely to explain changing crop yields.\n",
        "\n",
        "Lighter green and yellow regions indicate that climate variability is more strongly correlated with crop yield variability. In these areas, changes in precipitation and temperature were very responsible for changes in output."
      ],
      "metadata": {
        "id": "Xfh-QW5QUJKB"
      }
    },
    {
      "cell_type": "markdown",
      "source": [
        "Next, we'll perform the same raster clipping operation as earlier using a vector file on Brazil's boundaries to narrow the scope of this analysis for maize production, analyzing whether crop variability as explained by climate variability differs in wetter and drier areas."
      ],
      "metadata": {
        "id": "oAE5ZfeBTpbn"
      }
    },
    {
      "cell_type": "code",
      "source": [
        "pip install geopandas rioxarray rasterio"
      ],
      "metadata": {
        "id": "-hxBJevuse2I"
      },
      "execution_count": null,
      "outputs": []
    },
    {
      "cell_type": "markdown",
      "source": [
        "###Maize"
      ],
      "metadata": {
        "id": "FMluOO9EnaNg"
      }
    },
    {
      "cell_type": "markdown",
      "source": [
        "```\n",
        "import geopandas as gpd\n",
        "import rioxarray as rxr\n",
        "import xarray as xr\n",
        "\n",
        "# Load the Brazil boundary GeoJSON\n",
        "brazil = gpd.read_file(\"https://github.com/jlschwartz3/bio108tutorial/blob/main/brazil_Brazil_Country_Boundary.geojson\")\n",
        "\n",
        "# Load the raster and make sure it has spatial info\n",
        "raster = rxr.open_rasterio(\n",
        "    \"/content/drive/MyDrive/crop yields/explanatorycat_maize.tif\",\n",
        "    masked=True\n",
        ")\n",
        "\n",
        "# Ensure the CRS matches (if not, reproject Brazil boundary)\n",
        "if raster.rio.crs != brazil.crs:\n",
        "    brazil = brazil.to_crs(raster.rio.crs)\n",
        "\n",
        "# Clip the raster to Brazil\n",
        "raster_clipped = raster.rio.clip(brazil.geometry, brazil.crs, drop=True)\n",
        "\n",
        "# Optional: Save clipped raster if you want\n",
        "raster_clipped.rio.to_raster(\"/content/drive/MyDrive/crop yields/maize_clipped_brazil.tif\")\n",
        "```"
      ],
      "metadata": {
        "id": "FVMExmFPtvn6"
      }
    },
    {
      "cell_type": "code",
      "source": [
        "\n"
      ],
      "metadata": {
        "id": "n1hrcJvdsX6d"
      },
      "execution_count": null,
      "outputs": []
    },
    {
      "cell_type": "markdown",
      "source": [
        "To plot the Leafmap using the Brazil vector boundaries, we can run the earlier leafmap code, but with the newly clipped data."
      ],
      "metadata": {
        "id": "UKaIvo2ducfD"
      }
    },
    {
      "cell_type": "markdown",
      "source": [
        "```\n",
        "m = leafmap.Map(center=(-10, -52), zoom=4)  # Centered on Brazil\n",
        "\n",
        "m.add_raster(\n",
        "    \"/content/drive/MyDrive/crop yields/maize_clipped_brazil.tif\",\n",
        "    layer_name=\"Brazil Maize\",\n",
        "    cmap=cmap,\n",
        "    vmin=vmin,\n",
        "    vmax=vmax,\n",
        "    nodata=0,\n",
        ")\n",
        "\n",
        "m.add_legend(title=\"Limiting Factors for Maize Growth\", legend_dict=legend_dict)\n",
        "m\n",
        "```"
      ],
      "metadata": {
        "id": "zN4OKSadtzT0"
      }
    },
    {
      "cell_type": "code",
      "source": [],
      "metadata": {
        "id": "A1VtE6MCtT9r"
      },
      "execution_count": null,
      "outputs": []
    },
    {
      "cell_type": "code",
      "source": [
        "import rasterio\n",
        "\n",
        "out_image, out_transform = rasterio.mask.mask(src, shapes, crop=True)\n",
        "\n",
        "# Use the original profile and update it for the new clipped raster\n",
        "out_meta = src.meta.copy()\n",
        "\n",
        "out_meta.update({\n",
        "    \"driver\": \"GTiff\",\n",
        "    \"height\": out_image.shape[1],\n",
        "    \"width\": out_image.shape[2],\n",
        "    \"transform\": out_transform\n",
        "})\n",
        "\n",
        "# Save the clipped precip raster\n",
        "with rasterio.open(\"/content/drive/MyDrive/crop yields/precip_brazil.tif\", \"w\", **out_meta) as dest:\n",
        "    dest.write(out_image)\n",
        "\n",
        "    import rioxarray as rxr\n",
        "\n",
        "precip = rxr.open_rasterio(\"/content/drive/MyDrive/crop yields/precip_brazil.tif\", masked=True).squeeze()\n",
        "\n",
        "# Load both rasters\n",
        "yield_var = rxr.open_rasterio(\"/content/drive/MyDrive/crop yields/maize_clipped_brazil.tif\", masked=True).squeeze()\n",
        "precip = rxr.open_rasterio(\"/content/drive/MyDrive/crop yields/precip_brazil.tif\", masked=True).squeeze()\n",
        "\n",
        "# Reproject precipitation to match yield raster\n",
        "precip = precip.rio.reproject_match(yield_var)"
      ],
      "metadata": {
        "id": "0-eBqB-qgLUq"
      },
      "execution_count": null,
      "outputs": []
    },
    {
      "cell_type": "markdown",
      "source": [
        "Next, we'll calculate the precipitation values from within the clipped raster.\n",
        "\n",
        "```\n",
        "import numpy as np\n",
        "import xarray as xr\n",
        "\n",
        "# Mask where there's no data in either\n",
        "valid_mask = (~yield_var.isnull()) & (~precip.isnull())\n",
        "\n",
        "# Extract valid values\n",
        "yield_vals = yield_var.where(valid_mask).values.flatten()\n",
        "precip_vals = precip.where(valid_mask).values.flatten()\n",
        "```"
      ],
      "metadata": {
        "id": "CS0c9jMyt9O5"
      }
    },
    {
      "cell_type": "code",
      "source": [],
      "metadata": {
        "id": "XPC2o1hdi6ce"
      },
      "execution_count": null,
      "outputs": []
    },
    {
      "cell_type": "markdown",
      "source": [
        "Now, we'll find the average precipitation for each of the 7 categories identified by Ray et al. representing influence of climate variability.\n",
        "\n",
        "```\n",
        "import pandas as pd\n",
        "\n",
        "df = pd.DataFrame({\n",
        "    \"yield_var_cat\": yield_vals.astype(int),\n",
        "    \"precip\": precip_vals\n",
        "})\n",
        "\n",
        "# Keep only yield_var_cat values between 1 and 7, excluding 0/No Data areas because of difficulty wrangling\n",
        "df = df[df[\"yield_var_cat\"].between(1, 7)]\n",
        "\n",
        "# Remove NaNs (in case precip still has them)\n",
        "df = df.dropna()\n",
        "\n",
        "# Group by yield variability class\n",
        "avg_precip_by_class = df.groupby(\"yield_var_cat\")[\"precip\"].mean()\n",
        "print(avg_precip_by_class)\n",
        "```"
      ],
      "metadata": {
        "id": "htNPKqsvuNKS"
      }
    },
    {
      "cell_type": "code",
      "source": [
        "\n"
      ],
      "metadata": {
        "id": "huu5VKr6i-tx"
      },
      "execution_count": null,
      "outputs": []
    },
    {
      "cell_type": "markdown",
      "source": [
        "Finally, we'll make a simple bar graph to represent this data.\n",
        "\n",
        "```\n",
        "import matplotlib.pyplot as plt\n",
        "\n",
        "fig, ax = plt.subplots(figsize=(8, 5))  # adjust size as needed\n",
        "\n",
        "avg_precip_by_class.plot.bar(\n",
        "    ax=ax,\n",
        "    title=\"Avg Precip by Maize Yield Variability Explained by Climate Variability\"\n",
        ")\n",
        "\n",
        "ax.set_ylabel(\"Average Monthly Precipitation (mm)\")  # Add y-axis label\n",
        "ax.set_xlabel(\"Yield Variability Class\")      # Add x-axis label\n",
        "plt.show()\n",
        "```"
      ],
      "metadata": {
        "id": "be5BvvUJubks"
      }
    },
    {
      "cell_type": "code",
      "source": [
        "\n"
      ],
      "metadata": {
        "id": "oQ6YE_YUklYv"
      },
      "execution_count": null,
      "outputs": []
    },
    {
      "cell_type": "markdown",
      "source": [
        "#### **Questions**\n",
        "\n",
        "1. What do we observe in this final graph? Does there seem to be a pattern?\n",
        "2. In areas where climate (and precip) variability has more of an impact, how can farmers protect themselves against climate change? How can governments help?\n",
        "3. Taking a step back, if farmers in certain regions are experiencing a lot of variability in crop yields, how might they adjust their decisions on sowing and harvesting? Could it drive them to abandon farming altogether?\n"
      ],
      "metadata": {
        "id": "miX0BaGFryaE"
      }
    }
  ]
}